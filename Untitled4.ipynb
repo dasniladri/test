{
 "cells": [
  {
   "cell_type": "markdown",
   "id": "93502483",
   "metadata": {},
   "source": [
    "Dictionary are the key value pair"
   ]
  },
  {
   "cell_type": "markdown",
   "id": "4d7c1a96",
   "metadata": {},
   "source": [
    "dname= {key1:value1,key2:value2,key2:value3}"
   ]
  },
  {
   "cell_type": "code",
   "execution_count": 1,
   "id": "0bfa0a7c",
   "metadata": {},
   "outputs": [],
   "source": [
    "d1={'id':200,'name':'Niladri','age':19}"
   ]
  },
  {
   "cell_type": "code",
   "execution_count": 2,
   "id": "8577599f",
   "metadata": {},
   "outputs": [
    {
     "data": {
      "text/plain": [
       "{'id': 200, 'name': 'Niladri', 'age': 19}"
      ]
     },
     "execution_count": 2,
     "metadata": {},
     "output_type": "execute_result"
    }
   ],
   "source": [
    "d1"
   ]
  },
  {
   "cell_type": "code",
   "execution_count": 3,
   "id": "4ffd16a1",
   "metadata": {},
   "outputs": [
    {
     "data": {
      "text/plain": [
       "dict_keys(['id', 'name', 'age'])"
      ]
     },
     "execution_count": 3,
     "metadata": {},
     "output_type": "execute_result"
    }
   ],
   "source": [
    "d1.keys()"
   ]
  },
  {
   "cell_type": "code",
   "execution_count": 4,
   "id": "b6dab7ca",
   "metadata": {},
   "outputs": [
    {
     "data": {
      "text/plain": [
       "dict_values([200, 'Niladri', 19])"
      ]
     },
     "execution_count": 4,
     "metadata": {},
     "output_type": "execute_result"
    }
   ],
   "source": [
    "d1.values()"
   ]
  },
  {
   "cell_type": "code",
   "execution_count": 5,
   "id": "5875f4d5",
   "metadata": {},
   "outputs": [
    {
     "data": {
      "text/plain": [
       "dict_items([('id', 200), ('name', 'Niladri'), ('age', 19)])"
      ]
     },
     "execution_count": 5,
     "metadata": {},
     "output_type": "execute_result"
    }
   ],
   "source": [
    "d1.items()"
   ]
  },
  {
   "cell_type": "code",
   "execution_count": 6,
   "id": "78c514c8",
   "metadata": {},
   "outputs": [
    {
     "data": {
      "text/plain": [
       "200"
      ]
     },
     "execution_count": 6,
     "metadata": {},
     "output_type": "execute_result"
    }
   ],
   "source": [
    "d1['id']"
   ]
  },
  {
   "cell_type": "code",
   "execution_count": 7,
   "id": "3d05da0c",
   "metadata": {},
   "outputs": [
    {
     "data": {
      "text/plain": [
       "19"
      ]
     },
     "execution_count": 7,
     "metadata": {},
     "output_type": "execute_result"
    }
   ],
   "source": [
    "d1['age']"
   ]
  },
  {
   "cell_type": "code",
   "execution_count": 8,
   "id": "21868553",
   "metadata": {},
   "outputs": [
    {
     "data": {
      "text/plain": [
       "'Niladri'"
      ]
     },
     "execution_count": 8,
     "metadata": {},
     "output_type": "execute_result"
    }
   ],
   "source": [
    "d1['name']"
   ]
  },
  {
   "cell_type": "code",
   "execution_count": 16,
   "id": "3ced0ada",
   "metadata": {},
   "outputs": [],
   "source": [
    "d1['age']=22\n"
   ]
  },
  {
   "cell_type": "code",
   "execution_count": 17,
   "id": "0e59fac2",
   "metadata": {},
   "outputs": [
    {
     "data": {
      "text/plain": [
       "{'id': 200, 'name': 'Niladri', 'age': 22, 'Fees': 50000}"
      ]
     },
     "execution_count": 17,
     "metadata": {},
     "output_type": "execute_result"
    }
   ],
   "source": [
    "d1"
   ]
  },
  {
   "cell_type": "code",
   "execution_count": 18,
   "id": "8900c9c9",
   "metadata": {},
   "outputs": [],
   "source": [
    "d1.update({'Fees':50000})"
   ]
  },
  {
   "cell_type": "code",
   "execution_count": 19,
   "id": "e0d85015",
   "metadata": {},
   "outputs": [
    {
     "data": {
      "text/plain": [
       "{'id': 200, 'name': 'Niladri', 'age': 22, 'Fees': 50000}"
      ]
     },
     "execution_count": 19,
     "metadata": {},
     "output_type": "execute_result"
    }
   ],
   "source": [
    "d1"
   ]
  },
  {
   "cell_type": "code",
   "execution_count": 20,
   "id": "f9bf1466",
   "metadata": {},
   "outputs": [
    {
     "data": {
      "text/plain": [
       "22"
      ]
     },
     "execution_count": 20,
     "metadata": {},
     "output_type": "execute_result"
    }
   ],
   "source": [
    "d1.pop('age')"
   ]
  },
  {
   "cell_type": "code",
   "execution_count": 21,
   "id": "84fadd2f",
   "metadata": {},
   "outputs": [
    {
     "data": {
      "text/plain": [
       "{'id': 200, 'name': 'Niladri', 'Fees': 50000}"
      ]
     },
     "execution_count": 21,
     "metadata": {},
     "output_type": "execute_result"
    }
   ],
   "source": [
    "d1"
   ]
  },
  {
   "cell_type": "code",
   "execution_count": 22,
   "id": "3a3d8e21",
   "metadata": {},
   "outputs": [],
   "source": [
    "d1.clear()"
   ]
  },
  {
   "cell_type": "code",
   "execution_count": 23,
   "id": "e02d7d36",
   "metadata": {},
   "outputs": [
    {
     "data": {
      "text/plain": [
       "{}"
      ]
     },
     "execution_count": 23,
     "metadata": {},
     "output_type": "execute_result"
    }
   ],
   "source": [
    "d1"
   ]
  },
  {
   "cell_type": "code",
   "execution_count": 24,
   "id": "c6799082",
   "metadata": {},
   "outputs": [],
   "source": [
    "del d1"
   ]
  },
  {
   "cell_type": "code",
   "execution_count": 25,
   "id": "a38d619e",
   "metadata": {},
   "outputs": [
    {
     "ename": "NameError",
     "evalue": "name 'd1' is not defined",
     "output_type": "error",
     "traceback": [
      "\u001b[1;31m---------------------------------------------------------------------------\u001b[0m",
      "\u001b[1;31mNameError\u001b[0m                                 Traceback (most recent call last)",
      "Cell \u001b[1;32mIn[25], line 1\u001b[0m\n\u001b[1;32m----> 1\u001b[0m \u001b[43md1\u001b[49m\n",
      "\u001b[1;31mNameError\u001b[0m: name 'd1' is not defined"
     ]
    }
   ],
   "source": [
    "d1"
   ]
  },
  {
   "cell_type": "code",
   "execution_count": 28,
   "id": "6ddd9e5f",
   "metadata": {},
   "outputs": [],
   "source": [
    "d2={'id':[1,2,3],'Name':['john','jack','monalisa'],'age':[10,20,30]}"
   ]
  },
  {
   "cell_type": "code",
   "execution_count": 29,
   "id": "7ab79caf",
   "metadata": {},
   "outputs": [
    {
     "data": {
      "text/plain": [
       "{'id': [1, 2, 3], 'Name': ['john', 'jack', 'monalisa'], 'age': [10, 20, 30]}"
      ]
     },
     "execution_count": 29,
     "metadata": {},
     "output_type": "execute_result"
    }
   ],
   "source": [
    "d2"
   ]
  },
  {
   "cell_type": "code",
   "execution_count": 31,
   "id": "9d699fe8",
   "metadata": {},
   "outputs": [
    {
     "data": {
      "text/plain": [
       "dict_values([[1, 2, 3], ['john', 'jack', 'monalisa'], [10, 20, 30]])"
      ]
     },
     "execution_count": 31,
     "metadata": {},
     "output_type": "execute_result"
    }
   ],
   "source": [
    "d2.values()"
   ]
  },
  {
   "cell_type": "code",
   "execution_count": 32,
   "id": "7be524ed",
   "metadata": {},
   "outputs": [
    {
     "data": {
      "text/plain": [
       "[1, 2, 3]"
      ]
     },
     "execution_count": 32,
     "metadata": {},
     "output_type": "execute_result"
    }
   ],
   "source": [
    "d2['id']"
   ]
  },
  {
   "cell_type": "code",
   "execution_count": 33,
   "id": "e0d29467",
   "metadata": {},
   "outputs": [
    {
     "data": {
      "text/plain": [
       "[10, 20, 30]"
      ]
     },
     "execution_count": 33,
     "metadata": {},
     "output_type": "execute_result"
    }
   ],
   "source": [
    "d2['age']"
   ]
  },
  {
   "cell_type": "code",
   "execution_count": 37,
   "id": "ac39e2cd",
   "metadata": {},
   "outputs": [
    {
     "data": {
      "text/plain": [
       "['john', 'jack', 'monalisa']"
      ]
     },
     "execution_count": 37,
     "metadata": {},
     "output_type": "execute_result"
    }
   ],
   "source": [
    "d2['Name']"
   ]
  },
  {
   "cell_type": "code",
   "execution_count": 38,
   "id": "59a392c0",
   "metadata": {},
   "outputs": [
    {
     "data": {
      "text/plain": [
       "2"
      ]
     },
     "execution_count": 38,
     "metadata": {},
     "output_type": "execute_result"
    }
   ],
   "source": [
    "d2['id'][1]"
   ]
  },
  {
   "cell_type": "code",
   "execution_count": 39,
   "id": "f21ea8cf",
   "metadata": {},
   "outputs": [],
   "source": [
    "d2['Name'][2]=['smriti']"
   ]
  },
  {
   "cell_type": "code",
   "execution_count": 41,
   "id": "460cac04",
   "metadata": {},
   "outputs": [
    {
     "data": {
      "text/plain": [
       "['john', 'jack', ['smriti']]"
      ]
     },
     "execution_count": 41,
     "metadata": {},
     "output_type": "execute_result"
    }
   ],
   "source": [
    "d2['Name']"
   ]
  },
  {
   "cell_type": "markdown",
   "id": "4892f500",
   "metadata": {},
   "source": [
    "# dictionary is Mutable"
   ]
  },
  {
   "cell_type": "code",
   "execution_count": null,
   "id": "0940ae0f",
   "metadata": {},
   "outputs": [],
   "source": []
  }
 ],
 "metadata": {
  "kernelspec": {
   "display_name": "Python 3 (ipykernel)",
   "language": "python",
   "name": "python3"
  },
  "language_info": {
   "codemirror_mode": {
    "name": "ipython",
    "version": 3
   },
   "file_extension": ".py",
   "mimetype": "text/x-python",
   "name": "python",
   "nbconvert_exporter": "python",
   "pygments_lexer": "ipython3",
   "version": "3.10.9"
  }
 },
 "nbformat": 4,
 "nbformat_minor": 5
}
